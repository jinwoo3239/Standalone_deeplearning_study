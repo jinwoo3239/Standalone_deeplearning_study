{
 "cells": [
  {
   "cell_type": "code",
   "execution_count": 1,
   "metadata": {},
   "outputs": [],
   "source": [
    "import numpy as np\n",
    "import matplotlib.pyplot as plt\n",
    "from tqdm import tqdm\n",
    "\n",
    "import torch\n",
    "import torch.nn as nn\n",
    "import torch.nn.functional as F\n",
    "from torch.utils.data import DataLoader\n",
    "\n",
    "from torchvision import transforms\n",
    "from torchvision.datasets import MNIST"
   ]
  },
  {
   "attachments": {},
   "cell_type": "markdown",
   "metadata": {},
   "source": [
    "### 1. Data preparation"
   ]
  },
  {
   "cell_type": "code",
   "execution_count": 2,
   "metadata": {},
   "outputs": [],
   "source": [
    "BATCH_SIZE = 256\n",
    "\n",
    "transform = transforms.Compose([transforms.ToTensor()])\n",
    "\n",
    "train_val_dataset = MNIST(root='./data', train=True, transform=transform, download=True)\n",
    "test_dataset = MNIST(root='./data', train=False, transform=transform, download=True)\n",
    "\n",
    "train_size = int(len(train_val_dataset) * 0.8)\n",
    "val_size = len(train_val_dataset) - train_size\n",
    "\n",
    "train_dataset, val_dataset = torch.utils.data.random_split(train_val_dataset, [train_size, val_size])\n",
    "\n",
    "train_dataloader = DataLoader(train_dataset, batch_size=BATCH_SIZE,shuffle=True, drop_last=True)\n",
    "val_dataloader = DataLoader(val_dataset, batch_size=BATCH_SIZE,shuffle=True, drop_last=True)\n",
    "test_dataloader = DataLoader(test_dataset, batch_size=BATCH_SIZE,shuffle=True, drop_last=True)"
   ]
  },
  {
   "cell_type": "code",
   "execution_count": 3,
   "metadata": {},
   "outputs": [
    {
     "name": "stdout",
     "output_type": "stream",
     "text": [
      "torch.Size([256, 1, 28, 28])\n"
     ]
    },
    {
     "data": {
      "image/png": "[encoded data removed]",
      "text/plain": [
       "<Figure size 700x200 with 6 Axes>"
      ]
     },
     "metadata": {},
     "output_type": "display_data"
    }
   ],
   "source": [
    "samples = next(iter(train_dataloader))\n",
    "\n",
    "print(samples[0].shape)\n",
    "\n",
    "plt.figure(figsize=(7, 2))\n",
    "for i in range(6):\n",
    "    plt.subplot(1, 6, i + 1)\n",
    "    img = samples[0][i].squeeze().numpy()\n",
    "    plt.imshow(img, cmap='gray')\n",
    "    plt.title(f'label = {samples[1][i]}')\n",
    "    plt.axis('off')\n",
    "plt.tight_layout()\n",
    "plt.show();"
   ]
  },
  {
   "attachments": {},
   "cell_type": "markdown",
   "metadata": {},
   "source": [
    "### 2. Model Architecture"
   ]
  },
  {
   "cell_type": "code",
   "execution_count": 4,
   "metadata": {},
   "outputs": [],
   "source": [
    "class LinearModel(nn.Module):\n",
    "\n",
    "    def __init__(self, ):\n",
    "        super(LinearModel, self).__init__()\n",
    "\n",
    "        self.flatten = nn.Flatten()\n",
    "        self.linear1 = nn.Linear(28*28, 32)\n",
    "        self.linear2 = nn.Linear(32, 10)\n",
    "\n",
    "    def forward(self, inputs, training=False):\n",
    "\n",
    "        x = self.flatten(inputs) # (B, 1 * 28 * 28)\n",
    "        x = F.relu(self.linear1(x)) # (B, 32)\n",
    "        output = self.linear2(x) \n",
    "        return output # (B, 10)"
   ]
  },
  {
   "cell_type": "code",
   "execution_count": 5,
   "metadata": {},
   "outputs": [
    {
     "name": "stderr",
     "output_type": "stream",
     "text": [
      "MODEL TRAINING & EVALUATION:  10%|█         | 1/10 [00:02<00:19,  2.15s/it]"
     ]
    },
    {
     "name": "stdout",
     "output_type": "stream",
     "text": [
      "===============\n",
      "Epoch : 1.0000, Train_loss : 0.8309, valid_loss : 0.3834\n"
     ]
    },
    {
     "name": "stderr",
     "output_type": "stream",
     "text": [
      "MODEL TRAINING & EVALUATION:  20%|██        | 2/10 [00:04<00:16,  2.10s/it]"
     ]
    },
    {
     "name": "stdout",
     "output_type": "stream",
     "text": [
      "===============\n",
      "Epoch : 2.0000, Train_loss : 0.3345, valid_loss : 0.2997\n"
     ]
    },
    {
     "name": "stderr",
     "output_type": "stream",
     "text": [
      "MODEL TRAINING & EVALUATION:  30%|███       | 3/10 [00:06<00:14,  2.08s/it]"
     ]
    },
    {
     "name": "stdout",
     "output_type": "stream",
     "text": [
      "===============\n",
      "Epoch : 3.0000, Train_loss : 0.2797, valid_loss : 0.2682\n"
     ]
    },
    {
     "name": "stderr",
     "output_type": "stream",
     "text": [
      "MODEL TRAINING & EVALUATION:  40%|████      | 4/10 [00:08<00:12,  2.07s/it]"
     ]
    },
    {
     "name": "stdout",
     "output_type": "stream",
     "text": [
      "===============\n",
      "Epoch : 4.0000, Train_loss : 0.2496, valid_loss : 0.2482\n"
     ]
    },
    {
     "name": "stderr",
     "output_type": "stream",
     "text": [
      "MODEL TRAINING & EVALUATION:  50%|█████     | 5/10 [00:10<00:10,  2.05s/it]"
     ]
    },
    {
     "name": "stdout",
     "output_type": "stream",
     "text": [
      "===============\n",
      "Epoch : 5.0000, Train_loss : 0.2251, valid_loss : 0.2296\n"
     ]
    },
    {
     "name": "stderr",
     "output_type": "stream",
     "text": [
      "MODEL TRAINING & EVALUATION:  60%|██████    | 6/10 [00:12<00:08,  2.05s/it]"
     ]
    },
    {
     "name": "stdout",
     "output_type": "stream",
     "text": [
      "===============\n",
      "Epoch : 6.0000, Train_loss : 0.2043, valid_loss : 0.2144\n"
     ]
    },
    {
     "name": "stderr",
     "output_type": "stream",
     "text": [
      "MODEL TRAINING & EVALUATION:  70%|███████   | 7/10 [00:14<00:06,  2.04s/it]"
     ]
    },
    {
     "name": "stdout",
     "output_type": "stream",
     "text": [
      "===============\n",
      "Epoch : 7.0000, Train_loss : 0.1873, valid_loss : 0.1999\n"
     ]
    },
    {
     "name": "stderr",
     "output_type": "stream",
     "text": [
      "MODEL TRAINING & EVALUATION:  80%|████████  | 8/10 [00:16<00:04,  2.04s/it]"
     ]
    },
    {
     "name": "stdout",
     "output_type": "stream",
     "text": [
      "===============\n",
      "Epoch : 8.0000, Train_loss : 0.1723, valid_loss : 0.1882\n"
     ]
    },
    {
     "name": "stderr",
     "output_type": "stream",
     "text": [
      "MODEL TRAINING & EVALUATION:  90%|█████████ | 9/10 [00:18<00:02,  2.04s/it]"
     ]
    },
    {
     "name": "stdout",
     "output_type": "stream",
     "text": [
      "===============\n",
      "Epoch : 9.0000, Train_loss : 0.1599, valid_loss : 0.1814\n"
     ]
    },
    {
     "name": "stderr",
     "output_type": "stream",
     "text": [
      "MODEL TRAINING & EVALUATION: 100%|██████████| 10/10 [00:20<00:00,  2.05s/it]"
     ]
    },
    {
     "name": "stdout",
     "output_type": "stream",
     "text": [
      "===============\n",
      "Epoch : 10.0000, Train_loss : 0.1495, valid_loss : 0.1771\n"
     ]
    },
    {
     "name": "stderr",
     "output_type": "stream",
     "text": [
      "\n"
     ]
    },
    {
     "name": "stdout",
     "output_type": "stream",
     "text": [
      "===============\n",
      "===============\n",
      "Test_accuracy : 95.20\n",
      "Complete\n"
     ]
    }
   ],
   "source": [
    "# torch.nn.CrossEntropyLoss = softmax + cross-entropy\n",
    "# torch.nn.BCELoss = cross-entropy\n",
    "# torch.nn.BCEWithLogitsLoss = sigmoid + cross-entropy\n",
    "\n",
    "EPOCHS = 10\n",
    "device = torch.device('mps' if torch.backends.mps.is_available() else 'cpu') # M1, M2 chip\n",
    "\n",
    "model = LinearModel()\n",
    "loss_fn = nn.CrossEntropyLoss() # reduction = mean\n",
    "optimizer = torch.optim.Adam(model.parameters())\n",
    "\n",
    "list_train_loss = []\n",
    "list_val_loss = []\n",
    "list_acc = []\n",
    "\n",
    "model = model.to(device)\n",
    "for epoch in tqdm(range(EPOCHS), desc='MODEL TRAINING & EVALUATION'):\n",
    "\n",
    "    # Training step\n",
    "    model.train()\n",
    "    train_loss = 0.0\n",
    "    for data, label in train_dataloader:\n",
    "        data, label = data.to(device), label.to(device)\n",
    "\n",
    "        optimizer.zero_grad()\n",
    "        outputs = model(data)\n",
    "        loss = loss_fn(outputs, label)\n",
    "        \n",
    "        loss.backward()\n",
    "        optimizer.step()\n",
    "\n",
    "        train_loss += loss.cpu().detach().numpy()\n",
    "    train_loss /= len(train_dataloader) # loss_fn reduction = Mean\n",
    "    list_train_loss.append(train_loss)\n",
    "\n",
    "    # Validation step\n",
    "    model.eval()\n",
    "    val_loss = 0.0\n",
    "    with torch.no_grad():\n",
    "        for data, label in val_dataloader:\n",
    "            data, label = data.to(device), label.to(device)\n",
    "            outputs = model(data)\n",
    "            loss = loss_fn(outputs, label)\n",
    "\n",
    "            val_loss += loss.cpu().detach().numpy()\n",
    "        val_loss /= len(val_dataloader) # loss_fn reduction = mean\n",
    "        list_val_loss.append(val_loss)\n",
    "    print('=' * 15)\n",
    "    print('Epoch : {:.4f}, Train_loss : {:.4f}, valid_loss : {:.4f}'.format(epoch+1, train_loss, val_loss))  \n",
    "\n",
    "\n",
    "# Test step\n",
    "model.eval()\n",
    "total_correct = 0.0\n",
    "with torch.no_grad():\n",
    "    for data, label in test_dataloader:\n",
    "        data, label = data.to(device), label.to(device)\n",
    "        outputs = model(data) # (batch, 10)\n",
    "        prediction = torch.argmax(outputs, dim=-1).type(label.dtype) # (batch, )\n",
    "\n",
    "        correct = torch.eq(prediction, label).sum()\n",
    "        total_correct += correct.cpu().detach().numpy()\n",
    "\n",
    "    total_correct /= len(test_dataloader.dataset)\n",
    "    list_acc.append(total_correct)\n",
    "print('=' * 15)\n",
    "print('=' * 15)\n",
    "print('Test_accuracy : {:.2f}'.format(total_correct * 100))\n",
    "print('Complete')\n"
   ]
  },
  {
   "cell_type": "code",
   "execution_count": 6,
   "metadata": {},
   "outputs": [
    {
     "data": {
      "image/png": "[encoded data removed]",
      "text/plain": [
       "<Figure size 400x300 with 1 Axes>"
      ]
     },
     "metadata": {},
     "output_type": "display_data"
    }
   ],
   "source": [
    "plt.figure(figsize=(4, 3))\n",
    "plt.plot(range(1, len(list_train_loss)+1), list_train_loss, label='train_loss')\n",
    "plt.plot(range(1, len(list_train_loss)+1), list_val_loss, label='val_loss')\n",
    "plt.xlabel('EPOCHS')\n",
    "plt.ylabel('LOSS')\n",
    "plt.legend()\n",
    "plt.show()"
   ]
  }
 ],
 "metadata": {
  "kernelspec": {
   "display_name": "practice",
   "language": "python",
   "name": "python3"
  },
  "language_info": {
   "codemirror_mode": {
    "name": "ipython",
    "version": 3
   },
   "file_extension": ".py",
   "mimetype": "text/x-python",
   "name": "python",
   "nbconvert_exporter": "python",
   "pygments_lexer": "ipython3",
   "version": "3.10.6"
  },
  "orig_nbformat": 4,
  "vscode": {
   "interpreter": {
    "hash": "16c70bb53c3ff8e5cfee2d1d0545620c7a8a776b7a10915918312ca7b660aca5"
   }
  }
 },
 "nbformat": 4,
 "nbformat_minor": 2
}
