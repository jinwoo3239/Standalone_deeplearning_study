{
 "cells": [
  {
   "cell_type": "code",
   "execution_count": 1,
   "metadata": {},
   "outputs": [],
   "source": [
    "import numpy as np\n",
    "import argparse\n",
    "\n",
    "import torch\n",
    "import torch.nn as nn\n",
    "from torch.utils.data import DataLoader\n",
    "\n",
    "from torchvision import datasets\n",
    "from torchvision import transforms\n",
    "\n",
    "from tqdm import tqdm\n",
    "from time import time"
   ]
  },
  {
   "cell_type": "code",
   "execution_count": 2,
   "metadata": {},
   "outputs": [
    {
     "name": "stdout",
     "output_type": "stream",
     "text": [
      "Files already downloaded and verified\n",
      "Files already downloaded and verified\n"
     ]
    }
   ],
   "source": [
    "transform = transforms.Compose(\n",
    "    [transforms.ToTensor(),\n",
    "    transforms.Normalize(0.5, 0.5)]\n",
    ")\n",
    "\n",
    "BATCH_SIZE = 256\n",
    "\n",
    "train_val_dataset = datasets.CIFAR10('./data', train=True, transform=transform, download=True)\n",
    "test_dataset = datasets.CIFAR10('./data', train=False, transform=transform, download=True)\n",
    "\n",
    "train_size = int(len(train_val_dataset) * 0.8)\n",
    "val_size = len(train_val_dataset) - train_size\n",
    "train_dataset, val_dataset = torch.utils.data.random_split(train_val_dataset, [train_size, val_size])\n",
    "\n",
    "train_dataloader = DataLoader(train_dataset, batch_size=BATCH_SIZE, shuffle=True, drop_last=True)\n",
    "val_dataloader = DataLoader(val_dataset, batch_size=BATCH_SIZE, shuffle=True, drop_last=True)\n",
    "test_dataloader = DataLoader(test_dataset, batch_size=BATCH_SIZE, shuffle=True, drop_last=True)\n",
    "\n",
    "classes = ['plane', 'car', 'bird', 'cat', 'deer', 'dog', 'fog', 'horse', 'ship', 'truck']"
   ]
  },
  {
   "cell_type": "code",
   "execution_count": 3,
   "metadata": {},
   "outputs": [
    {
     "name": "stdout",
     "output_type": "stream",
     "text": [
      "Sample shape = torch.Size([256, 3, 32, 32])\n"
     ]
    }
   ],
   "source": [
    "samples = next(iter(train_dataloader))\n",
    "print(f'Sample shape = {samples[0].shape}') # (batch_size, channel, height, width)"
   ]
  },
  {
   "cell_type": "code",
   "execution_count": 4,
   "metadata": {},
   "outputs": [],
   "source": [
    "class MLP(nn.Module):\n",
    "    def __init__(self, input_dim, hidden_dim, out_dim, n_layer, act='relu'):\n",
    "        super(MLP, self).__init__()\n",
    "\n",
    "        self.flatten = nn.Flatten()\n",
    "        self.linear = nn.Linear(input_dim, hidden_dim if n_layer != 1 else out_dim)\n",
    "\n",
    "        if n_layer < 1:\n",
    "            raise ValueError('Value of n_layer sholud be more than 1')\n",
    "        \n",
    "        self.linears = nn.ModuleList()\n",
    "        for i in range(n_layer -1):\n",
    "            self.linears.append(nn.Linear(hidden_dim, hidden_dim if i != (n_layer -2) else out_dim))\n",
    "\n",
    "        if act == 'relu':\n",
    "            self.act = nn.ReLU()\n",
    "        else:\n",
    "            print('Activation function is not applied, only \"relu\" functioin can be used in this model')\n",
    "            print('This model is neural network without activation function')\n",
    "            self.act = lambda x: x\n",
    "\n",
    "\n",
    "    def forward(self, inputs):\n",
    "\n",
    "        x = self.flatten(inputs)\n",
    "        x = self.linear(x)\n",
    "        for layer in self.linears:\n",
    "            x = self.act(layer(x))\n",
    "        return x"
   ]
  },
  {
   "cell_type": "code",
   "execution_count": 5,
   "metadata": {},
   "outputs": [],
   "source": [
    "def experiment(args):\n",
    "\n",
    "    model = MLP(args.in_dim, args.hidden_dim, args.out_dim, args.n_layer, args.act)\n",
    "    model = model.to(args.device)\n",
    "\n",
    "    loss_fn = nn.CrossEntropyLoss()\n",
    "    optimizer = torch.optim.Adam(model.parameters())\n",
    "\n",
    "    list_train_losses = []\n",
    "    list_val_losses = []\n",
    "    list_acc = []\n",
    "\n",
    "    for epoch in tqdm(range(args.epoch), desc='Training & Evaluating'):\n",
    "\n",
    "        ts = time()        \n",
    "\n",
    "        # train_step\n",
    "        model.train()\n",
    "        train_losses = 0.0\n",
    "        for img, label in train_dataloader:\n",
    "            img, label = img.to(args.device), label.to(args.device)\n",
    "            optimizer.zero_grad()\n",
    "\n",
    "            outputs = model(img)\n",
    "            loss = loss_fn(outputs, label)\n",
    "            \n",
    "            loss.backward()\n",
    "            optimizer.step()\n",
    "            train_losses += loss.cpu().detach().numpy()\n",
    "\n",
    "        train_losses /= len(train_dataloader)\n",
    "        list_train_losses.append(train_losses)\n",
    "\n",
    "        # valid_step\n",
    "        model.eval()\n",
    "        val_losses = 0.0\n",
    "        with torch.no_grad():\n",
    "            for img, label in val_dataloader:\n",
    "\n",
    "                img, label = img.to(args.device), label.to(args.device)\n",
    "\n",
    "                outputs = model(img)\n",
    "                loss = loss_fn(outputs, label)\n",
    "                val_losses += loss.cpu().detach().numpy()\n",
    "\n",
    "            val_losses /= len(val_dataloader)\n",
    "            list_val_losses.append(val_losses)\n",
    "\n",
    "\n",
    "        # test_step\n",
    "        model.eval()\n",
    "        test_acc = 0.0\n",
    "        with torch.no_grad():\n",
    "            for img, label in test_dataloader:\n",
    "                img, label = img.to(args.device), label.to(args.device)\n",
    "\n",
    "                outputs = model(img) # (batch, output_dim)\n",
    "                prediction = torch.argmax(outputs, dim=-1) # (batch, )\n",
    "\n",
    "                test_acc += torch.eq(prediction, label).sum().cpu().detach().numpy()\n",
    "            test_acc /= len(test_dataloader.dataset)\n",
    "            list_acc.append(test_acc)\n",
    "        te = time()\n",
    "\n",
    "        print('=' * 20)\n",
    "        print(f'Epoch: {epoch+1:d}, train_loss : {train_losses:.4f}, val_loss : {val_losses:.4f}, test_acc : {test_acc*100:.2f}, Time took (sec) : {te-ts:.2f}')\n",
    "        \n",
    "    return list_train_losses, list_val_losses, list_acc"
   ]
  },
  {
   "cell_type": "code",
   "execution_count": 6,
   "metadata": {},
   "outputs": [
    {
     "name": "stdout",
     "output_type": "stream",
     "text": [
      "{'in_dim': 3072, 'hidden_dim': 32, 'out_dim': 10, 'n_layer': 3, 'act': 'relu', 'device': device(type='mps'), 'lr': 0.01, 'epoch': 5}\n"
     ]
    },
    {
     "name": "stderr",
     "output_type": "stream",
     "text": [
      "Training & Evaluating:  20%|██        | 1/5 [00:03<00:15,  3.97s/it]"
     ]
    },
    {
     "name": "stdout",
     "output_type": "stream",
     "text": [
      "====================\n",
      "Epoch: 1, train_loss : 1.8713, val_loss : 1.7131, test_acc : 40.95, Time took (sec) : 3.97\n"
     ]
    },
    {
     "name": "stderr",
     "output_type": "stream",
     "text": [
      "Training & Evaluating:  40%|████      | 2/5 [00:07<00:11,  3.86s/it]"
     ]
    },
    {
     "name": "stdout",
     "output_type": "stream",
     "text": [
      "====================\n",
      "Epoch: 2, train_loss : 1.6517, val_loss : 1.6408, test_acc : 43.50, Time took (sec) : 3.78\n"
     ]
    },
    {
     "name": "stderr",
     "output_type": "stream",
     "text": [
      "Training & Evaluating:  60%|██████    | 3/5 [00:11<00:07,  3.82s/it]"
     ]
    },
    {
     "name": "stdout",
     "output_type": "stream",
     "text": [
      "====================\n",
      "Epoch: 3, train_loss : 1.5830, val_loss : 1.5915, test_acc : 44.97, Time took (sec) : 3.78\n"
     ]
    },
    {
     "name": "stderr",
     "output_type": "stream",
     "text": [
      "Training & Evaluating:  80%|████████  | 4/5 [00:15<00:03,  3.81s/it]"
     ]
    },
    {
     "name": "stdout",
     "output_type": "stream",
     "text": [
      "====================\n",
      "Epoch: 4, train_loss : 1.5419, val_loss : 1.5696, test_acc : 44.97, Time took (sec) : 3.78\n"
     ]
    },
    {
     "name": "stderr",
     "output_type": "stream",
     "text": [
      "Training & Evaluating: 100%|██████████| 5/5 [00:19<00:00,  3.81s/it]"
     ]
    },
    {
     "name": "stdout",
     "output_type": "stream",
     "text": [
      "====================\n",
      "Epoch: 5, train_loss : 1.5090, val_loss : 1.5621, test_acc : 45.68, Time took (sec) : 3.76\n"
     ]
    },
    {
     "name": "stderr",
     "output_type": "stream",
     "text": [
      "\n"
     ]
    }
   ],
   "source": [
    "parser = argparse.ArgumentParser()\n",
    "args = parser.parse_args('')\n",
    "\n",
    "args.in_dim = 3072 # (3 * 32* 32)\n",
    "args.hidden_dim = 32\n",
    "args.out_dim = 10\n",
    "args.n_layer = 3\n",
    "args.act = 'relu'\n",
    "\n",
    "args.device = torch.device('mps')\n",
    "args.lr = 1e-2\n",
    "args.epoch = 5\n",
    "\n",
    "print(vars(args))\n",
    "result = experiment(args)\n"
   ]
  }
 ],
 "metadata": {
  "kernelspec": {
   "display_name": "practice",
   "language": "python",
   "name": "python3"
  },
  "language_info": {
   "codemirror_mode": {
    "name": "ipython",
    "version": 3
   },
   "file_extension": ".py",
   "mimetype": "text/x-python",
   "name": "python",
   "nbconvert_exporter": "python",
   "pygments_lexer": "ipython3",
   "version": "3.10.6"
  },
  "orig_nbformat": 4,
  "vscode": {
   "interpreter": {
    "hash": "16c70bb53c3ff8e5cfee2d1d0545620c7a8a776b7a10915918312ca7b660aca5"
   }
  }
 },
 "nbformat": 4,
 "nbformat_minor": 2
}
